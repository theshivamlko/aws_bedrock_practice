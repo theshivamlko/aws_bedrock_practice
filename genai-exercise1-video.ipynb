{
 "cells": [
  {
   "cell_type": "code",
   "execution_count": 7,
   "id": "249bb9da-4b86-4620-b386-2bea8ced5bac",
   "metadata": {},
   "outputs": [
    {
     "name": "stdout",
     "output_type": "stream",
     "text": [
      "✅ Job submitted!\n",
      "Invocation ARN: arn:aws:bedrock:us-east-1:637626381203:async-invoke/69w2qb293mxw\n"
     ]
    }
   ],
   "source": [
    "import boto3\n",
    "import json\n",
    "import random\n",
    "bedrock_runtime=boto3.client(\"bedrock-runtime\",region_name=\"us-east-1\")\n",
    "bedrock = boto3.client(service_name=\"bedrock\",region_name=\"us-east-1\")\n",
    "s3 = boto3.client(\"s3\")\n",
    "\n",
    "model_id = \"amazon.nova-reel-v1:0\"\n",
    "prompt =\"A person posting as game character\"\n",
    "\n",
    "seed = random.randint(0,423982328)\n",
    "\n",
    "model_input = {\n",
    "    \"taskType\": \"TEXT_VIDEO\",\n",
    "    \"textToVideoParams\": {\"text\": prompt},\n",
    "    \"videoGenerationConfig\": {\n",
    "        \"fps\": 24,\n",
    "        \"durationSeconds\": 6,\n",
    "        \"dimension\": \"1280x720\",\n",
    "        \"seed\": seed,\n",
    "    },\n",
    "}\n",
    "\n",
    "output_config = {\n",
    "    \"s3OutputDataConfig\": {\n",
    "        \"s3Uri\": \"s3://gen-ai-exercise-shivam/video/\"\n",
    "    }\n",
    "}\n",
    "\n",
    "response = bedrock_runtime.start_async_invoke(\n",
    "    modelId=model_id,\n",
    "    modelInput=model_input,\n",
    "    outputDataConfig=output_config,\n",
    ")\n",
    "\n",
    "invocation_arn = response[\"invocationArn\"]\n",
    "print(\"✅ Job submitted!\")\n",
    "print(\"Invocation ARN:\", invocation_arn)\n",
    "\n"
   ]
  },
  {
   "cell_type": "code",
   "execution_count": 10,
   "id": "377a1b5b-b3e9-4013-8b74-7513cf5061b0",
   "metadata": {},
   "outputs": [
    {
     "name": "stdout",
     "output_type": "stream",
     "text": [
      "Current Status: Completed\n"
     ]
    }
   ],
   "source": [
    "job_status = bedrock_runtime.get_async_invoke(invocationArn=invocation_arn)\n",
    "print(\"Current Status:\", job_status[\"status\"])"
   ]
  },
  {
   "cell_type": "code",
   "execution_count": 12,
   "id": "6ad025d7-309a-46c7-a826-62eba5904cc3",
   "metadata": {},
   "outputs": [],
   "source": [
    "#Text Generation"
   ]
  },
  {
   "cell_type": "code",
   "execution_count": 13,
   "id": "a9b42855-1794-4a12-a140-def6d9cf2664",
   "metadata": {},
   "outputs": [
    {
     "data": {
      "text/plain": [
       "b'{\"output\":{\"message\":{\"content\":[{\"text\":\"You exhibit exceptional proficiency in your professional responsibilities.\"}],\"role\":\"assistant\"}},\"stopReason\":\"end_turn\",\"usage\":{\"inputTokens\":19,\"outputTokens\":10,\"totalTokens\":29,\"cacheReadInputTokenCount\":0,\"cacheWriteInputTokenCount\":0}}'"
      ]
     },
     "execution_count": 13,
     "metadata": {},
     "output_type": "execute_result"
    }
   ],
   "source": [
    "import boto3\n",
    "import json\n",
    "\n",
    "MODEL_ID = \"amazon.nova-micro-v1:0\"\n",
    "bedrock = boto3.client(service_name='bedrock-runtime', region_name='us-east-1')\n",
    "\n",
    "response = bedrock.invoke_model(\n",
    "    modelId=MODEL_ID,\n",
    "    guardrailVersion=\"DRAFT\",\n",
    "    body=json.dumps({\n",
    "        \"schemaVersion\": \"messages-v1\",\n",
    "        \"messages\": [{\"role\": \"user\", \"content\": [{\"text\": \"Rewrite this sentence for me in a formal tone: You are very good at your job.\"}]}],\n",
    "        \"inferenceConfig\": {\"maxTokens\": 500, \"topK\": 20, \"temperature\": 0.7}\n",
    "    })\n",
    ")\n",
    "\n",
    "response['body'].read()"
   ]
  },
  {
   "cell_type": "code",
   "execution_count": 15,
   "id": "621911a3-c1c0-4c0b-8abc-0d2c54ecf675",
   "metadata": {},
   "outputs": [],
   "source": [
    "# Using Amazon Bedrock for streaming text generation"
   ]
  },
  {
   "cell_type": "code",
   "execution_count": 16,
   "id": "748deb59-62e3-420b-b599-4d2c02503e0e",
   "metadata": {},
   "outputs": [
    {
     "name": "stdout",
     "output_type": "stream",
     "text": [
      "Receiving response stream:\n",
      "There are numerous types of dances that people perform around the world, each with its own unique style, history, and cultural significance. Here are some of the most popular and widely recognized types of dances:\n",
      "\n",
      "### Traditional and Folk Dances\n",
      "1. **Ballet** - A classical dance form that originated in the Italian Renaissance courts of the 15th century and later developed into a sophisticated, highly disciplined art form in France and Russia.\n",
      "2. **Hip-Hop** - A cultural movement that includes dancing, rapping, DJing, and graffiti art, originating in the African-American and Latino communities in the United States.\n",
      "3. **Salsa** - A lively and romantic dance that originated in the Caribbean and Latin America, characterized by intricate footwork and close partner interaction.\n",
      "4. **Tango** - An elegant and passionate dance that originated in the working-class neighborhoods of Buenos Aires, Argentina, and Montevideo, Uruguay.\n",
      "5. **Flamenco** - A passionate and expressive dance from the Andalusian region of Spain, characterized by intricate footwork, hand clapping, and singing.\n",
      "6. **Bhangra** - A traditional dance from the Punjab region of India and Pakistan, known for its energetic and fast-paced movements.\n",
      "7. **Cachucha** - A Spanish folk dance that involves a series of quick, energetic steps and kicks.\n",
      "\n",
      "### Modern Dances\n",
      "1. **Contemporary Dance** - A style that combines elements of several dance genres including modern, jazz, lyrical, and classical ballet.\n",
      "2. **Jazz Dance** - A style that originated in African American communities and incorporates elements of swing, tap, and ballet.\n",
      "3. **Tap Dance** - A style of dance that uses the sounds of tap shoes striking the floor as a form of percussion.\n",
      "4. **Modern Dance** - A dance style that emerged in the early 20th century as a reaction against the constraints of classical ballet.\n",
      "5. **Breakdancing** - A dynamic and acrobatic style of street dance that originated in African-American and Latino communities in the United States.\n",
      "\n",
      "### Social and Party Dances\n",
      "1. **Foxtrot** - A smooth, flowing dance that originated in the early 20th century in the United States.\n",
      "2. **Cha-Cha-Cha** - A dance that originated in Cuba in the 1950s and is characterized by its fast tempo and lively rhythm.\n",
      "3. **Rumba** - A dance that originated in Cuba and is known for its sensual and romantic style.\n",
      "4. **Waltz** - A graceful dance that originated in Austria and Germany and is characterized by its smooth, gliding movements.\n",
      "5. **Tango** - As mentioned earlier, an elegant and passionate dance from Argentina and Uruguay.\n",
      "\n",
      "### Cultural and Regional Dances\n",
      "1. **Bharatanatyam** - A classical Indian dance form that originated in Tamil Nadu, India, known for its intricate hand gestures, expressive movements, and elaborate costumes.\n",
      "2. **K-Pop Dance** - A style of dance that is part of the Korean pop music culture, known for its high-energy routines and synchronized movements.\n",
      "3. **Zulu Dance** - A traditional dance from the Zulu people of South Africa, characterized by its energetic movements and communal participation.\n",
      "4. **Polka** - A fast-paced dance that originated in the Czech Republic and is characterized by its lively rhythm and hopping steps.\n",
      "5. **Samba** - A Brazilian dance that originated in the Afro-Brazilian communities and is known for its rhythmic and energetic movements.\n",
      "\n",
      "### Dance Sports\n",
      "1. **Dancesport** - Competitive dance that includes various forms of partnered dance, such as ballroom and Latin.\n",
      "2. **Line Dance** - A simple, repetitive dance that is performed in a straight line or a rectangular formation, often to country or western music.\n",
      "\n",
      "These are just a few examples of the many types of dances that exist around the world. Each dance form carries its own unique cultural significance and provides a rich way to express emotions and tell stories."
     ]
    }
   ],
   "source": [
    "import boto3\n",
    "import json\n",
    "\n",
    "bedrock = boto3.client('bedrock-runtime', region_name='us-east-1')\n",
    "model_id = 'amazon.nova-micro-v1:0'\n",
    "\n",
    "payload = {\n",
    "    \"messages\": [\n",
    "        {\n",
    "            \"role\": \"user\",\n",
    "            \"content\": [\n",
    "                {\n",
    "                    \"text\": \"Tell me what type of dances people do.\"\n",
    "                }\n",
    "            ]\n",
    "        }\n",
    "    ]\n",
    "}\n",
    "\n",
    "payload_json = json.dumps(payload)\n",
    "\n",
    "response = bedrock.invoke_model_with_response_stream(\n",
    "    modelId=model_id,\n",
    "    body=payload_json,\n",
    "    contentType='application/json',\n",
    "    accept='application/json'\n",
    ")\n",
    "\n",
    "stream = response['body']\n",
    "full_text = \"\"\n",
    "\n",
    "print(\"Receiving response stream:\")\n",
    "for event in stream:\n",
    "    chunk = event['chunk']\n",
    "    chunk_str = chunk.get('bytes', b'').decode('utf-8')\n",
    "\n",
    "    try:\n",
    "        json_chunk = json.loads(chunk_str)\n",
    "\n",
    "        if \"contentBlockDelta\" in json_chunk:\n",
    "            delta = json_chunk[\"contentBlockDelta\"][\"delta\"]\n",
    "            text = delta.get(\"text\", \"\")\n",
    "            full_text += text\n",
    "            print(text, end='') \n",
    "\n",
    "    except json.JSONDecodeError:\n",
    "        continue"
   ]
  },
  {
   "cell_type": "code",
   "execution_count": null,
   "id": "badf6785-19f6-4dfa-8a56-c13911c6ebdd",
   "metadata": {},
   "outputs": [],
   "source": []
  }
 ],
 "metadata": {
  "kernelspec": {
   "display_name": "Python 3 (ipykernel)",
   "language": "python",
   "name": "python3"
  },
  "language_info": {
   "codemirror_mode": {
    "name": "ipython",
    "version": 3
   },
   "file_extension": ".py",
   "mimetype": "text/x-python",
   "name": "python",
   "nbconvert_exporter": "python",
   "pygments_lexer": "ipython3",
   "version": "3.13.5"
  }
 },
 "nbformat": 4,
 "nbformat_minor": 5
}
